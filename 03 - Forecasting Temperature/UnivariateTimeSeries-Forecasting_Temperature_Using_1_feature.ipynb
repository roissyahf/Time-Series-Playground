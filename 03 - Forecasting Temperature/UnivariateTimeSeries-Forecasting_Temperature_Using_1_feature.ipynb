{
 "cells": [
  {
   "cell_type": "code",
   "execution_count": 1,
   "id": "63333171",
   "metadata": {},
   "outputs": [],
   "source": [
    "import tensorflow as tf\n",
    "from tensorflow.keras.callbacks import ModelCheckpoint\n",
    "from tensorflow.keras.losses import MeanSquaredError\n",
    "from tensorflow.keras.metrics import RootMeanSquaredError\n",
    "\n",
    "import os\n",
    "import pandas as pd\n",
    "import numpy as np\n",
    "import matplotlib.pyplot as plt\n",
    "\n",
    "from sklearn.model_selection import train_test_split\n",
    "from sklearn.preprocessing import MinMaxScaler\n",
    "from sklearn.metrics import r2_score, mean_squared_error\n",
    "\n",
    "import matplotlib.pyplot as plt\n",
    "import matplotlib.dates as mdates"
   ]
  },
  {
   "cell_type": "code",
   "execution_count": 2,
   "id": "3ff8265e",
   "metadata": {},
   "outputs": [
    {
     "data": {
      "text/html": [
       "<div>\n",
       "<style scoped>\n",
       "    .dataframe tbody tr th:only-of-type {\n",
       "        vertical-align: middle;\n",
       "    }\n",
       "\n",
       "    .dataframe tbody tr th {\n",
       "        vertical-align: top;\n",
       "    }\n",
       "\n",
       "    .dataframe thead th {\n",
       "        text-align: right;\n",
       "    }\n",
       "</style>\n",
       "<table border=\"1\" class=\"dataframe\">\n",
       "  <thead>\n",
       "    <tr style=\"text-align: right;\">\n",
       "      <th></th>\n",
       "      <th>Date Time</th>\n",
       "      <th>p (mbar)</th>\n",
       "      <th>T (degC)</th>\n",
       "      <th>Tpot (K)</th>\n",
       "      <th>Tdew (degC)</th>\n",
       "      <th>rh (%)</th>\n",
       "      <th>VPmax (mbar)</th>\n",
       "      <th>VPact (mbar)</th>\n",
       "      <th>VPdef (mbar)</th>\n",
       "      <th>sh (g/kg)</th>\n",
       "      <th>H2OC (mmol/mol)</th>\n",
       "      <th>rho (g/m**3)</th>\n",
       "      <th>wv (m/s)</th>\n",
       "      <th>max. wv (m/s)</th>\n",
       "      <th>wd (deg)</th>\n",
       "    </tr>\n",
       "  </thead>\n",
       "  <tbody>\n",
       "    <tr>\n",
       "      <th>0</th>\n",
       "      <td>01.01.2009 00:10:00</td>\n",
       "      <td>996.52</td>\n",
       "      <td>-8.02</td>\n",
       "      <td>265.40</td>\n",
       "      <td>-8.90</td>\n",
       "      <td>93.3</td>\n",
       "      <td>3.33</td>\n",
       "      <td>3.11</td>\n",
       "      <td>0.22</td>\n",
       "      <td>1.94</td>\n",
       "      <td>3.12</td>\n",
       "      <td>1307.75</td>\n",
       "      <td>1.03</td>\n",
       "      <td>1.75</td>\n",
       "      <td>152.3</td>\n",
       "    </tr>\n",
       "    <tr>\n",
       "      <th>1</th>\n",
       "      <td>01.01.2009 00:20:00</td>\n",
       "      <td>996.57</td>\n",
       "      <td>-8.41</td>\n",
       "      <td>265.01</td>\n",
       "      <td>-9.28</td>\n",
       "      <td>93.4</td>\n",
       "      <td>3.23</td>\n",
       "      <td>3.02</td>\n",
       "      <td>0.21</td>\n",
       "      <td>1.89</td>\n",
       "      <td>3.03</td>\n",
       "      <td>1309.80</td>\n",
       "      <td>0.72</td>\n",
       "      <td>1.50</td>\n",
       "      <td>136.1</td>\n",
       "    </tr>\n",
       "    <tr>\n",
       "      <th>2</th>\n",
       "      <td>01.01.2009 00:30:00</td>\n",
       "      <td>996.53</td>\n",
       "      <td>-8.51</td>\n",
       "      <td>264.91</td>\n",
       "      <td>-9.31</td>\n",
       "      <td>93.9</td>\n",
       "      <td>3.21</td>\n",
       "      <td>3.01</td>\n",
       "      <td>0.20</td>\n",
       "      <td>1.88</td>\n",
       "      <td>3.02</td>\n",
       "      <td>1310.24</td>\n",
       "      <td>0.19</td>\n",
       "      <td>0.63</td>\n",
       "      <td>171.6</td>\n",
       "    </tr>\n",
       "    <tr>\n",
       "      <th>3</th>\n",
       "      <td>01.01.2009 00:40:00</td>\n",
       "      <td>996.51</td>\n",
       "      <td>-8.31</td>\n",
       "      <td>265.12</td>\n",
       "      <td>-9.07</td>\n",
       "      <td>94.2</td>\n",
       "      <td>3.26</td>\n",
       "      <td>3.07</td>\n",
       "      <td>0.19</td>\n",
       "      <td>1.92</td>\n",
       "      <td>3.08</td>\n",
       "      <td>1309.19</td>\n",
       "      <td>0.34</td>\n",
       "      <td>0.50</td>\n",
       "      <td>198.0</td>\n",
       "    </tr>\n",
       "    <tr>\n",
       "      <th>4</th>\n",
       "      <td>01.01.2009 00:50:00</td>\n",
       "      <td>996.51</td>\n",
       "      <td>-8.27</td>\n",
       "      <td>265.15</td>\n",
       "      <td>-9.04</td>\n",
       "      <td>94.1</td>\n",
       "      <td>3.27</td>\n",
       "      <td>3.08</td>\n",
       "      <td>0.19</td>\n",
       "      <td>1.92</td>\n",
       "      <td>3.09</td>\n",
       "      <td>1309.00</td>\n",
       "      <td>0.32</td>\n",
       "      <td>0.63</td>\n",
       "      <td>214.3</td>\n",
       "    </tr>\n",
       "  </tbody>\n",
       "</table>\n",
       "</div>"
      ],
      "text/plain": [
       "             Date Time  p (mbar)  T (degC)  Tpot (K)  Tdew (degC)  rh (%)  \\\n",
       "0  01.01.2009 00:10:00    996.52     -8.02    265.40        -8.90    93.3   \n",
       "1  01.01.2009 00:20:00    996.57     -8.41    265.01        -9.28    93.4   \n",
       "2  01.01.2009 00:30:00    996.53     -8.51    264.91        -9.31    93.9   \n",
       "3  01.01.2009 00:40:00    996.51     -8.31    265.12        -9.07    94.2   \n",
       "4  01.01.2009 00:50:00    996.51     -8.27    265.15        -9.04    94.1   \n",
       "\n",
       "   VPmax (mbar)  VPact (mbar)  VPdef (mbar)  sh (g/kg)  H2OC (mmol/mol)  \\\n",
       "0          3.33          3.11          0.22       1.94             3.12   \n",
       "1          3.23          3.02          0.21       1.89             3.03   \n",
       "2          3.21          3.01          0.20       1.88             3.02   \n",
       "3          3.26          3.07          0.19       1.92             3.08   \n",
       "4          3.27          3.08          0.19       1.92             3.09   \n",
       "\n",
       "   rho (g/m**3)  wv (m/s)  max. wv (m/s)  wd (deg)  \n",
       "0       1307.75      1.03           1.75     152.3  \n",
       "1       1309.80      0.72           1.50     136.1  \n",
       "2       1310.24      0.19           0.63     171.6  \n",
       "3       1309.19      0.34           0.50     198.0  \n",
       "4       1309.00      0.32           0.63     214.3  "
      ]
     },
     "execution_count": 2,
     "metadata": {},
     "output_type": "execute_result"
    }
   ],
   "source": [
    "df = pd.read_csv('jena_climate_2009_2016.csv')\n",
    "df.head()"
   ]
  },
  {
   "cell_type": "code",
   "execution_count": 7,
   "id": "9221faec",
   "metadata": {},
   "outputs": [
    {
     "name": "stdout",
     "output_type": "stream",
     "text": [
      "<class 'pandas.core.frame.DataFrame'>\n",
      "RangeIndex: 420551 entries, 0 to 420550\n",
      "Data columns (total 15 columns):\n",
      " #   Column           Non-Null Count   Dtype  \n",
      "---  ------           --------------   -----  \n",
      " 0   Date Time        420551 non-null  object \n",
      " 1   p (mbar)         420551 non-null  float64\n",
      " 2   T (degC)         420551 non-null  float64\n",
      " 3   Tpot (K)         420551 non-null  float64\n",
      " 4   Tdew (degC)      420551 non-null  float64\n",
      " 5   rh (%)           420551 non-null  float64\n",
      " 6   VPmax (mbar)     420551 non-null  float64\n",
      " 7   VPact (mbar)     420551 non-null  float64\n",
      " 8   VPdef (mbar)     420551 non-null  float64\n",
      " 9   sh (g/kg)        420551 non-null  float64\n",
      " 10  H2OC (mmol/mol)  420551 non-null  float64\n",
      " 11  rho (g/m**3)     420551 non-null  float64\n",
      " 12  wv (m/s)         420551 non-null  float64\n",
      " 13  max. wv (m/s)    420551 non-null  float64\n",
      " 14  wd (deg)         420551 non-null  float64\n",
      "dtypes: float64(14), object(1)\n",
      "memory usage: 48.1+ MB\n"
     ]
    }
   ],
   "source": [
    "df.info()"
   ]
  },
  {
   "cell_type": "code",
   "execution_count": 8,
   "id": "44ab115f",
   "metadata": {},
   "outputs": [
    {
     "data": {
      "text/plain": [
       "Date Time          0\n",
       "p (mbar)           0\n",
       "T (degC)           0\n",
       "Tpot (K)           0\n",
       "Tdew (degC)        0\n",
       "rh (%)             0\n",
       "VPmax (mbar)       0\n",
       "VPact (mbar)       0\n",
       "VPdef (mbar)       0\n",
       "sh (g/kg)          0\n",
       "H2OC (mmol/mol)    0\n",
       "rho (g/m**3)       0\n",
       "wv (m/s)           0\n",
       "max. wv (m/s)      0\n",
       "wd (deg)           0\n",
       "dtype: int64"
      ]
     },
     "execution_count": 8,
     "metadata": {},
     "output_type": "execute_result"
    }
   ],
   "source": [
    "df.isnull().sum()"
   ]
  },
  {
   "cell_type": "code",
   "execution_count": 3,
   "id": "61ae2fe5",
   "metadata": {},
   "outputs": [
    {
     "data": {
      "text/html": [
       "<div>\n",
       "<style scoped>\n",
       "    .dataframe tbody tr th:only-of-type {\n",
       "        vertical-align: middle;\n",
       "    }\n",
       "\n",
       "    .dataframe tbody tr th {\n",
       "        vertical-align: top;\n",
       "    }\n",
       "\n",
       "    .dataframe thead th {\n",
       "        text-align: right;\n",
       "    }\n",
       "</style>\n",
       "<table border=\"1\" class=\"dataframe\">\n",
       "  <thead>\n",
       "    <tr style=\"text-align: right;\">\n",
       "      <th></th>\n",
       "      <th>Date Time</th>\n",
       "      <th>p (mbar)</th>\n",
       "      <th>T (degC)</th>\n",
       "      <th>Tpot (K)</th>\n",
       "      <th>Tdew (degC)</th>\n",
       "      <th>rh (%)</th>\n",
       "      <th>VPmax (mbar)</th>\n",
       "      <th>VPact (mbar)</th>\n",
       "      <th>VPdef (mbar)</th>\n",
       "      <th>sh (g/kg)</th>\n",
       "      <th>H2OC (mmol/mol)</th>\n",
       "      <th>rho (g/m**3)</th>\n",
       "      <th>wv (m/s)</th>\n",
       "      <th>max. wv (m/s)</th>\n",
       "      <th>wd (deg)</th>\n",
       "    </tr>\n",
       "    <tr>\n",
       "      <th>Date Time</th>\n",
       "      <th></th>\n",
       "      <th></th>\n",
       "      <th></th>\n",
       "      <th></th>\n",
       "      <th></th>\n",
       "      <th></th>\n",
       "      <th></th>\n",
       "      <th></th>\n",
       "      <th></th>\n",
       "      <th></th>\n",
       "      <th></th>\n",
       "      <th></th>\n",
       "      <th></th>\n",
       "      <th></th>\n",
       "      <th></th>\n",
       "    </tr>\n",
       "  </thead>\n",
       "  <tbody>\n",
       "    <tr>\n",
       "      <th>2009-01-01 00:10:00</th>\n",
       "      <td>01.01.2009 00:10:00</td>\n",
       "      <td>996.52</td>\n",
       "      <td>-8.02</td>\n",
       "      <td>265.40</td>\n",
       "      <td>-8.90</td>\n",
       "      <td>93.3</td>\n",
       "      <td>3.33</td>\n",
       "      <td>3.11</td>\n",
       "      <td>0.22</td>\n",
       "      <td>1.94</td>\n",
       "      <td>3.12</td>\n",
       "      <td>1307.75</td>\n",
       "      <td>1.03</td>\n",
       "      <td>1.75</td>\n",
       "      <td>152.3</td>\n",
       "    </tr>\n",
       "    <tr>\n",
       "      <th>2009-01-01 00:20:00</th>\n",
       "      <td>01.01.2009 00:20:00</td>\n",
       "      <td>996.57</td>\n",
       "      <td>-8.41</td>\n",
       "      <td>265.01</td>\n",
       "      <td>-9.28</td>\n",
       "      <td>93.4</td>\n",
       "      <td>3.23</td>\n",
       "      <td>3.02</td>\n",
       "      <td>0.21</td>\n",
       "      <td>1.89</td>\n",
       "      <td>3.03</td>\n",
       "      <td>1309.80</td>\n",
       "      <td>0.72</td>\n",
       "      <td>1.50</td>\n",
       "      <td>136.1</td>\n",
       "    </tr>\n",
       "    <tr>\n",
       "      <th>2009-01-01 00:30:00</th>\n",
       "      <td>01.01.2009 00:30:00</td>\n",
       "      <td>996.53</td>\n",
       "      <td>-8.51</td>\n",
       "      <td>264.91</td>\n",
       "      <td>-9.31</td>\n",
       "      <td>93.9</td>\n",
       "      <td>3.21</td>\n",
       "      <td>3.01</td>\n",
       "      <td>0.20</td>\n",
       "      <td>1.88</td>\n",
       "      <td>3.02</td>\n",
       "      <td>1310.24</td>\n",
       "      <td>0.19</td>\n",
       "      <td>0.63</td>\n",
       "      <td>171.6</td>\n",
       "    </tr>\n",
       "    <tr>\n",
       "      <th>2009-01-01 00:40:00</th>\n",
       "      <td>01.01.2009 00:40:00</td>\n",
       "      <td>996.51</td>\n",
       "      <td>-8.31</td>\n",
       "      <td>265.12</td>\n",
       "      <td>-9.07</td>\n",
       "      <td>94.2</td>\n",
       "      <td>3.26</td>\n",
       "      <td>3.07</td>\n",
       "      <td>0.19</td>\n",
       "      <td>1.92</td>\n",
       "      <td>3.08</td>\n",
       "      <td>1309.19</td>\n",
       "      <td>0.34</td>\n",
       "      <td>0.50</td>\n",
       "      <td>198.0</td>\n",
       "    </tr>\n",
       "    <tr>\n",
       "      <th>2009-01-01 00:50:00</th>\n",
       "      <td>01.01.2009 00:50:00</td>\n",
       "      <td>996.51</td>\n",
       "      <td>-8.27</td>\n",
       "      <td>265.15</td>\n",
       "      <td>-9.04</td>\n",
       "      <td>94.1</td>\n",
       "      <td>3.27</td>\n",
       "      <td>3.08</td>\n",
       "      <td>0.19</td>\n",
       "      <td>1.92</td>\n",
       "      <td>3.09</td>\n",
       "      <td>1309.00</td>\n",
       "      <td>0.32</td>\n",
       "      <td>0.63</td>\n",
       "      <td>214.3</td>\n",
       "    </tr>\n",
       "  </tbody>\n",
       "</table>\n",
       "</div>"
      ],
      "text/plain": [
       "                               Date Time  p (mbar)  T (degC)  Tpot (K)  \\\n",
       "Date Time                                                                \n",
       "2009-01-01 00:10:00  01.01.2009 00:10:00    996.52     -8.02    265.40   \n",
       "2009-01-01 00:20:00  01.01.2009 00:20:00    996.57     -8.41    265.01   \n",
       "2009-01-01 00:30:00  01.01.2009 00:30:00    996.53     -8.51    264.91   \n",
       "2009-01-01 00:40:00  01.01.2009 00:40:00    996.51     -8.31    265.12   \n",
       "2009-01-01 00:50:00  01.01.2009 00:50:00    996.51     -8.27    265.15   \n",
       "\n",
       "                     Tdew (degC)  rh (%)  VPmax (mbar)  VPact (mbar)  \\\n",
       "Date Time                                                              \n",
       "2009-01-01 00:10:00        -8.90    93.3          3.33          3.11   \n",
       "2009-01-01 00:20:00        -9.28    93.4          3.23          3.02   \n",
       "2009-01-01 00:30:00        -9.31    93.9          3.21          3.01   \n",
       "2009-01-01 00:40:00        -9.07    94.2          3.26          3.07   \n",
       "2009-01-01 00:50:00        -9.04    94.1          3.27          3.08   \n",
       "\n",
       "                     VPdef (mbar)  sh (g/kg)  H2OC (mmol/mol)  rho (g/m**3)  \\\n",
       "Date Time                                                                     \n",
       "2009-01-01 00:10:00          0.22       1.94             3.12       1307.75   \n",
       "2009-01-01 00:20:00          0.21       1.89             3.03       1309.80   \n",
       "2009-01-01 00:30:00          0.20       1.88             3.02       1310.24   \n",
       "2009-01-01 00:40:00          0.19       1.92             3.08       1309.19   \n",
       "2009-01-01 00:50:00          0.19       1.92             3.09       1309.00   \n",
       "\n",
       "                     wv (m/s)  max. wv (m/s)  wd (deg)  \n",
       "Date Time                                               \n",
       "2009-01-01 00:10:00      1.03           1.75     152.3  \n",
       "2009-01-01 00:20:00      0.72           1.50     136.1  \n",
       "2009-01-01 00:30:00      0.19           0.63     171.6  \n",
       "2009-01-01 00:40:00      0.34           0.50     198.0  \n",
       "2009-01-01 00:50:00      0.32           0.63     214.3  "
      ]
     },
     "execution_count": 3,
     "metadata": {},
     "output_type": "execute_result"
    }
   ],
   "source": [
    "# Convert 'Date Time' from object to datetime, then make it as index\n",
    "df.index = pd.to_datetime(df['Date Time'], format='%d.%m.%Y %H:%M:%S')\n",
    "df.head() #Data is collected every 10 minutes"
   ]
  },
  {
   "cell_type": "markdown",
   "id": "bd09bd22",
   "metadata": {},
   "source": [
    "# Column selection: use 'T (deg C)' only"
   ]
  },
  {
   "cell_type": "code",
   "execution_count": 6,
   "id": "97cb5189",
   "metadata": {},
   "outputs": [
    {
     "data": {
      "text/plain": [
       "<Axes: xlabel='Date Time'>"
      ]
     },
     "execution_count": 6,
     "metadata": {},
     "output_type": "execute_result"
    },
    {
     "data": {
      "image/png": "[encoded data removed]",
      "text/plain": [
       "<Figure size 640x480 with 1 Axes>"
      ]
     },
     "metadata": {},
     "output_type": "display_data"
    }
   ],
   "source": [
    "temp = df['T (degC)']\n",
    "temp.plot()"
   ]
  },
  {
   "cell_type": "code",
   "execution_count": 25,
   "id": "aa785a2c",
   "metadata": {},
   "outputs": [
    {
     "data": {
      "text/plain": [
       "Date Time\n",
       "2009-01-01 00:10:00   -8.02\n",
       "2009-01-01 00:20:00   -8.41\n",
       "2009-01-01 00:30:00   -8.51\n",
       "2009-01-01 00:40:00   -8.31\n",
       "2009-01-01 00:50:00   -8.27\n",
       "                       ... \n",
       "2016-12-31 23:20:00   -4.05\n",
       "2016-12-31 23:30:00   -3.35\n",
       "2016-12-31 23:40:00   -3.16\n",
       "2016-12-31 23:50:00   -4.23\n",
       "2017-01-01 00:00:00   -4.82\n",
       "Name: T (degC), Length: 420551, dtype: float64"
      ]
     },
     "execution_count": 25,
     "metadata": {},
     "output_type": "execute_result"
    }
   ],
   "source": [
    "temp # only use T (deg C) column"
   ]
  },
  {
   "cell_type": "code",
   "execution_count": 68,
   "id": "20644bfd",
   "metadata": {},
   "outputs": [
    {
     "data": {
      "text/plain": [
       "(420551,)"
      ]
     },
     "execution_count": 68,
     "metadata": {},
     "output_type": "execute_result"
    }
   ],
   "source": [
    "temp.shape"
   ]
  },
  {
   "cell_type": "markdown",
   "id": "240a1090",
   "metadata": {},
   "source": [
    "# Data Preprocessing"
   ]
  },
  {
   "cell_type": "code",
   "execution_count": 4,
   "id": "5f7b3932",
   "metadata": {},
   "outputs": [],
   "source": [
    "# windowing dataset >> make time series data into the form of supervised learning data\n",
    "# [[[1], [2], [3], [4], [5], [6], [7], [8], [9]]] [10]\n",
    "# [[[2], [3], [4], [5], [6], [7], [8], [9], [10]]] [11]\n",
    "# [[[3], [4], [5], [6], [7], [8], [9], [10], [11]]] [12]\n",
    "\n",
    "def df_to_X_y(df, window_size=9):\n",
    "    df_as_np = df.to_numpy()\n",
    "    X = []\n",
    "    y = []\n",
    "    for i in range(len(df_as_np)-window_size):\n",
    "        row = [[a] for a in df_as_np[i:i+window_size]]\n",
    "        X.append(row)\n",
    "        label = df_as_np[i+window_size]\n",
    "        y.append(label)\n",
    "        \n",
    "    return np.array(X), np.array(y)"
   ]
  },
  {
   "cell_type": "code",
   "execution_count": 7,
   "id": "f0f3e87e",
   "metadata": {},
   "outputs": [
    {
     "name": "stdout",
     "output_type": "stream",
     "text": [
      "(420542, 9, 1) (420542,)\n"
     ]
    }
   ],
   "source": [
    "# create windowed dataset\n",
    "X, y = df_to_X_y(temp, window_size=9)\n",
    "print(X.shape, y.shape)"
   ]
  },
  {
   "cell_type": "markdown",
   "id": "b74a1415",
   "metadata": {},
   "source": [
    "## Splitting data"
   ]
  },
  {
   "cell_type": "code",
   "execution_count": 8,
   "id": "f303d1f3",
   "metadata": {},
   "outputs": [
    {
     "name": "stdout",
     "output_type": "stream",
     "text": [
      "(294385, 9, 1) (294385,) (63078, 9, 1) (63078,) (63079, 9, 1) (63079,)\n"
     ]
    }
   ],
   "source": [
    "# how if i split it manually\n",
    "X_train, y_train = X[:294385], y[:294385]\n",
    "X_valid, y_valid = X[294385:357463], y[294385:357463]\n",
    "X_test, y_test = X[357463:], y[357463:]\n",
    "\n",
    "print(X_train.shape, y_train.shape, X_valid.shape, y_valid.shape, X_test.shape, y_test.shape)"
   ]
  },
  {
   "cell_type": "markdown",
   "id": "9949508f",
   "metadata": {},
   "source": [
    "# Modeling"
   ]
  },
  {
   "cell_type": "code",
   "execution_count": 12,
   "id": "249e8264",
   "metadata": {},
   "outputs": [
    {
     "name": "stdout",
     "output_type": "stream",
     "text": [
      "Epoch 1/10\n",
      "9200/9200 [==============================] - ETA: 0s - loss: 0.5115 - root_mean_squared_error: 0.7152"
     ]
    },
    {
     "name": "stderr",
     "output_type": "stream",
     "text": [
      "WARNING:absl:Found untraced functions such as lstm_cell_layer_call_fn, lstm_cell_layer_call_and_return_conditional_losses while saving (showing 2 of 2). These functions will not be directly callable after loading.\n"
     ]
    },
    {
     "name": "stdout",
     "output_type": "stream",
     "text": [
      "INFO:tensorflow:Assets written to: simple_model\\assets\n"
     ]
    },
    {
     "name": "stderr",
     "output_type": "stream",
     "text": [
      "INFO:tensorflow:Assets written to: simple_model\\assets\n"
     ]
    },
    {
     "name": "stdout",
     "output_type": "stream",
     "text": [
      "9200/9200 [==============================] - 111s 12ms/step - loss: 0.5115 - root_mean_squared_error: 0.7152 - val_loss: 0.0487 - val_root_mean_squared_error: 0.2208\n",
      "Epoch 2/10\n",
      "9200/9200 [==============================] - 159s 17ms/step - loss: 0.0480 - root_mean_squared_error: 0.2190 - val_loss: 0.0585 - val_root_mean_squared_error: 0.2418\n",
      "Epoch 3/10\n",
      "9197/9200 [============================>.] - ETA: 0s - loss: 0.0468 - root_mean_squared_error: 0.2163"
     ]
    },
    {
     "name": "stderr",
     "output_type": "stream",
     "text": [
      "WARNING:absl:Found untraced functions such as lstm_cell_layer_call_fn, lstm_cell_layer_call_and_return_conditional_losses while saving (showing 2 of 2). These functions will not be directly callable after loading.\n"
     ]
    },
    {
     "name": "stdout",
     "output_type": "stream",
     "text": [
      "INFO:tensorflow:Assets written to: simple_model\\assets\n"
     ]
    },
    {
     "name": "stderr",
     "output_type": "stream",
     "text": [
      "INFO:tensorflow:Assets written to: simple_model\\assets\n"
     ]
    },
    {
     "name": "stdout",
     "output_type": "stream",
     "text": [
      "9200/9200 [==============================] - 155s 17ms/step - loss: 0.0468 - root_mean_squared_error: 0.2163 - val_loss: 0.0442 - val_root_mean_squared_error: 0.2102\n",
      "Epoch 4/10\n",
      "9200/9200 [==============================] - 147s 16ms/step - loss: 0.0463 - root_mean_squared_error: 0.2152 - val_loss: 0.0554 - val_root_mean_squared_error: 0.2354\n",
      "Epoch 5/10\n",
      "9200/9200 [==============================] - 152s 17ms/step - loss: 0.0458 - root_mean_squared_error: 0.2141 - val_loss: 0.0555 - val_root_mean_squared_error: 0.2357\n",
      "Epoch 6/10\n",
      "9197/9200 [============================>.] - ETA: 0s - loss: 0.0454 - root_mean_squared_error: 0.2130"
     ]
    },
    {
     "name": "stderr",
     "output_type": "stream",
     "text": [
      "WARNING:absl:Found untraced functions such as lstm_cell_layer_call_fn, lstm_cell_layer_call_and_return_conditional_losses while saving (showing 2 of 2). These functions will not be directly callable after loading.\n"
     ]
    },
    {
     "name": "stdout",
     "output_type": "stream",
     "text": [
      "INFO:tensorflow:Assets written to: simple_model\\assets\n"
     ]
    },
    {
     "name": "stderr",
     "output_type": "stream",
     "text": [
      "INFO:tensorflow:Assets written to: simple_model\\assets\n"
     ]
    },
    {
     "name": "stdout",
     "output_type": "stream",
     "text": [
      "9200/9200 [==============================] - 145s 16ms/step - loss: 0.0454 - root_mean_squared_error: 0.2130 - val_loss: 0.0438 - val_root_mean_squared_error: 0.2092\n",
      "Epoch 7/10\n",
      "9200/9200 [==============================] - 141s 15ms/step - loss: 0.0454 - root_mean_squared_error: 0.2130 - val_loss: 0.0521 - val_root_mean_squared_error: 0.2283\n",
      "Epoch 8/10\n",
      "9199/9200 [============================>.] - ETA: 0s - loss: 0.0451 - root_mean_squared_error: 0.2125"
     ]
    },
    {
     "name": "stderr",
     "output_type": "stream",
     "text": [
      "WARNING:absl:Found untraced functions such as lstm_cell_layer_call_fn, lstm_cell_layer_call_and_return_conditional_losses while saving (showing 2 of 2). These functions will not be directly callable after loading.\n"
     ]
    },
    {
     "name": "stdout",
     "output_type": "stream",
     "text": [
      "INFO:tensorflow:Assets written to: simple_model\\assets\n"
     ]
    },
    {
     "name": "stderr",
     "output_type": "stream",
     "text": [
      "INFO:tensorflow:Assets written to: simple_model\\assets\n"
     ]
    },
    {
     "name": "stdout",
     "output_type": "stream",
     "text": [
      "9200/9200 [==============================] - 156s 17ms/step - loss: 0.0451 - root_mean_squared_error: 0.2125 - val_loss: 0.0433 - val_root_mean_squared_error: 0.2080\n",
      "Epoch 9/10\n",
      "9200/9200 [==============================] - 132s 14ms/step - loss: 0.0449 - root_mean_squared_error: 0.2119 - val_loss: 0.0632 - val_root_mean_squared_error: 0.2514\n",
      "Epoch 10/10\n",
      "9200/9200 [==============================] - 139s 15ms/step - loss: 0.0448 - root_mean_squared_error: 0.2116 - val_loss: 0.0630 - val_root_mean_squared_error: 0.2509\n"
     ]
    },
    {
     "data": {
      "text/plain": [
       "<keras.callbacks.History at 0x28328ffea60>"
      ]
     },
     "execution_count": 12,
     "metadata": {},
     "output_type": "execute_result"
    }
   ],
   "source": [
    "# construct model\n",
    "simple_model = tf.keras.models.Sequential([\n",
    "    tf.keras.layers.LSTM(64, input_shape=(9,1)),\n",
    "    tf.keras.layers.Dense(32, activation='relu'),\n",
    "    tf.keras.layers.Dense(1, activation='linear')\n",
    "])\n",
    "\n",
    "# save best weights only\n",
    "cp1 = ModelCheckpoint('simple_model/', save_best_only=True)\n",
    "\n",
    "# model compiling\n",
    "simple_model.compile(\n",
    "    loss='mse',\n",
    "    optimizer='adam',\n",
    "    metrics=[RootMeanSquaredError()]\n",
    ")\n",
    "\n",
    "# model training\n",
    "simple_model.fit(X_train,\n",
    "                 y_train,\n",
    "                 validation_data = (X_valid, y_valid),\n",
    "                 epochs=10,\n",
    "                callbacks=cp1)"
   ]
  },
  {
   "cell_type": "markdown",
   "id": "d7824d25",
   "metadata": {},
   "source": [
    "# Model prediction and evaluation"
   ]
  },
  {
   "cell_type": "markdown",
   "id": "2021f5c1",
   "metadata": {},
   "source": [
    "### In the train set"
   ]
  },
  {
   "cell_type": "code",
   "execution_count": 13,
   "id": "24be5fa7",
   "metadata": {},
   "outputs": [
    {
     "name": "stdout",
     "output_type": "stream",
     "text": [
      "9200/9200 [==============================] - 56s 6ms/step\n"
     ]
    },
    {
     "data": {
      "text/html": [
       "<div>\n",
       "<style scoped>\n",
       "    .dataframe tbody tr th:only-of-type {\n",
       "        vertical-align: middle;\n",
       "    }\n",
       "\n",
       "    .dataframe tbody tr th {\n",
       "        vertical-align: top;\n",
       "    }\n",
       "\n",
       "    .dataframe thead th {\n",
       "        text-align: right;\n",
       "    }\n",
       "</style>\n",
       "<table border=\"1\" class=\"dataframe\">\n",
       "  <thead>\n",
       "    <tr style=\"text-align: right;\">\n",
       "      <th></th>\n",
       "      <th>Train Predictions</th>\n",
       "      <th>Actuals</th>\n",
       "      <th>Error</th>\n",
       "    </tr>\n",
       "  </thead>\n",
       "  <tbody>\n",
       "    <tr>\n",
       "      <th>0</th>\n",
       "      <td>-7.976767</td>\n",
       "      <td>-8.43</td>\n",
       "      <td>0.453233</td>\n",
       "    </tr>\n",
       "    <tr>\n",
       "      <th>1</th>\n",
       "      <td>-8.571842</td>\n",
       "      <td>-8.76</td>\n",
       "      <td>0.188158</td>\n",
       "    </tr>\n",
       "    <tr>\n",
       "      <th>2</th>\n",
       "      <td>-8.846322</td>\n",
       "      <td>-8.88</td>\n",
       "      <td>0.033678</td>\n",
       "    </tr>\n",
       "    <tr>\n",
       "      <th>3</th>\n",
       "      <td>-8.946964</td>\n",
       "      <td>-8.85</td>\n",
       "      <td>-0.096964</td>\n",
       "    </tr>\n",
       "    <tr>\n",
       "      <th>4</th>\n",
       "      <td>-8.898380</td>\n",
       "      <td>-8.83</td>\n",
       "      <td>-0.068380</td>\n",
       "    </tr>\n",
       "    <tr>\n",
       "      <th>...</th>\n",
       "      <td>...</td>\n",
       "      <td>...</td>\n",
       "      <td>...</td>\n",
       "    </tr>\n",
       "    <tr>\n",
       "      <th>294380</th>\n",
       "      <td>13.798767</td>\n",
       "      <td>13.83</td>\n",
       "      <td>-0.031233</td>\n",
       "    </tr>\n",
       "    <tr>\n",
       "      <th>294381</th>\n",
       "      <td>13.990940</td>\n",
       "      <td>13.82</td>\n",
       "      <td>0.170940</td>\n",
       "    </tr>\n",
       "    <tr>\n",
       "      <th>294382</th>\n",
       "      <td>13.896066</td>\n",
       "      <td>13.73</td>\n",
       "      <td>0.166066</td>\n",
       "    </tr>\n",
       "    <tr>\n",
       "      <th>294383</th>\n",
       "      <td>13.797081</td>\n",
       "      <td>13.68</td>\n",
       "      <td>0.117081</td>\n",
       "    </tr>\n",
       "    <tr>\n",
       "      <th>294384</th>\n",
       "      <td>13.779268</td>\n",
       "      <td>13.55</td>\n",
       "      <td>0.229268</td>\n",
       "    </tr>\n",
       "  </tbody>\n",
       "</table>\n",
       "<p>294385 rows × 3 columns</p>\n",
       "</div>"
      ],
      "text/plain": [
       "        Train Predictions  Actuals     Error\n",
       "0               -7.976767    -8.43  0.453233\n",
       "1               -8.571842    -8.76  0.188158\n",
       "2               -8.846322    -8.88  0.033678\n",
       "3               -8.946964    -8.85 -0.096964\n",
       "4               -8.898380    -8.83 -0.068380\n",
       "...                   ...      ...       ...\n",
       "294380          13.798767    13.83 -0.031233\n",
       "294381          13.990940    13.82  0.170940\n",
       "294382          13.896066    13.73  0.166066\n",
       "294383          13.797081    13.68  0.117081\n",
       "294384          13.779268    13.55  0.229268\n",
       "\n",
       "[294385 rows x 3 columns]"
      ]
     },
     "execution_count": 13,
     "metadata": {},
     "output_type": "execute_result"
    }
   ],
   "source": [
    "train_predictions = simple_model.predict(X_train).flatten()\n",
    "error = train_predictions - y_train\n",
    "train_results = pd.DataFrame(data={'Train Predictions':train_predictions,\n",
    "                                  'Actuals':y_train,\n",
    "                                'Error': error\n",
    "                                 })\n",
    "train_results"
   ]
  },
  {
   "cell_type": "code",
   "execution_count": 14,
   "id": "e352b7b3",
   "metadata": {},
   "outputs": [
    {
     "name": "stdout",
     "output_type": "stream",
     "text": [
      "RMSE in validation set: 0.241081657332148\n"
     ]
    }
   ],
   "source": [
    "print('RMSE in validation set:', np.sqrt(mean_squared_error(train_predictions, y_train)))"
   ]
  },
  {
   "cell_type": "code",
   "execution_count": 22,
   "id": "dd4c398d",
   "metadata": {},
   "outputs": [
    {
     "data": {
      "text/plain": [
       "[<matplotlib.lines.Line2D at 0x28338a05250>]"
      ]
     },
     "execution_count": 22,
     "metadata": {},
     "output_type": "execute_result"
    },
    {
     "data": {
      "image/png": "[encoded data removed]",
      "text/plain": [
       "<Figure size 640x480 with 1 Axes>"
      ]
     },
     "metadata": {},
     "output_type": "display_data"
    }
   ],
   "source": [
    "# visualizing result\n",
    "\n",
    "plt.plot(train_results['Train Predictions'][1000:1200])\n",
    "plt.plot(train_results['Actuals'][1000:1200])"
   ]
  },
  {
   "cell_type": "markdown",
   "id": "9ce92504",
   "metadata": {},
   "source": [
    "### In the validation set"
   ]
  },
  {
   "cell_type": "code",
   "execution_count": 20,
   "id": "618adf7c",
   "metadata": {},
   "outputs": [
    {
     "name": "stdout",
     "output_type": "stream",
     "text": [
      "1972/1972 [==============================] - 9s 5ms/step\n"
     ]
    },
    {
     "data": {
      "text/html": [
       "<div>\n",
       "<style scoped>\n",
       "    .dataframe tbody tr th:only-of-type {\n",
       "        vertical-align: middle;\n",
       "    }\n",
       "\n",
       "    .dataframe tbody tr th {\n",
       "        vertical-align: top;\n",
       "    }\n",
       "\n",
       "    .dataframe thead th {\n",
       "        text-align: right;\n",
       "    }\n",
       "</style>\n",
       "<table border=\"1\" class=\"dataframe\">\n",
       "  <thead>\n",
       "    <tr style=\"text-align: right;\">\n",
       "      <th></th>\n",
       "      <th>Validation Predictions</th>\n",
       "      <th>Actuals</th>\n",
       "      <th>Error</th>\n",
       "    </tr>\n",
       "  </thead>\n",
       "  <tbody>\n",
       "    <tr>\n",
       "      <th>0</th>\n",
       "      <td>13.602425</td>\n",
       "      <td>13.53</td>\n",
       "      <td>0.072425</td>\n",
       "    </tr>\n",
       "    <tr>\n",
       "      <th>1</th>\n",
       "      <td>13.657204</td>\n",
       "      <td>13.53</td>\n",
       "      <td>0.127204</td>\n",
       "    </tr>\n",
       "    <tr>\n",
       "      <th>2</th>\n",
       "      <td>13.644547</td>\n",
       "      <td>13.50</td>\n",
       "      <td>0.144547</td>\n",
       "    </tr>\n",
       "    <tr>\n",
       "      <th>3</th>\n",
       "      <td>13.601719</td>\n",
       "      <td>13.46</td>\n",
       "      <td>0.141719</td>\n",
       "    </tr>\n",
       "    <tr>\n",
       "      <th>4</th>\n",
       "      <td>13.556952</td>\n",
       "      <td>13.46</td>\n",
       "      <td>0.096952</td>\n",
       "    </tr>\n",
       "    <tr>\n",
       "      <th>...</th>\n",
       "      <td>...</td>\n",
       "      <td>...</td>\n",
       "      <td>...</td>\n",
       "    </tr>\n",
       "    <tr>\n",
       "      <th>63073</th>\n",
       "      <td>6.722168</td>\n",
       "      <td>6.55</td>\n",
       "      <td>0.172168</td>\n",
       "    </tr>\n",
       "    <tr>\n",
       "      <th>63074</th>\n",
       "      <td>6.531372</td>\n",
       "      <td>6.58</td>\n",
       "      <td>-0.048628</td>\n",
       "    </tr>\n",
       "    <tr>\n",
       "      <th>63075</th>\n",
       "      <td>6.665967</td>\n",
       "      <td>6.53</td>\n",
       "      <td>0.135967</td>\n",
       "    </tr>\n",
       "    <tr>\n",
       "      <th>63076</th>\n",
       "      <td>6.535796</td>\n",
       "      <td>6.57</td>\n",
       "      <td>-0.034204</td>\n",
       "    </tr>\n",
       "    <tr>\n",
       "      <th>63077</th>\n",
       "      <td>6.654311</td>\n",
       "      <td>6.55</td>\n",
       "      <td>0.104311</td>\n",
       "    </tr>\n",
       "  </tbody>\n",
       "</table>\n",
       "<p>63078 rows × 3 columns</p>\n",
       "</div>"
      ],
      "text/plain": [
       "       Validation Predictions  Actuals     Error\n",
       "0                   13.602425    13.53  0.072425\n",
       "1                   13.657204    13.53  0.127204\n",
       "2                   13.644547    13.50  0.144547\n",
       "3                   13.601719    13.46  0.141719\n",
       "4                   13.556952    13.46  0.096952\n",
       "...                       ...      ...       ...\n",
       "63073                6.722168     6.55  0.172168\n",
       "63074                6.531372     6.58 -0.048628\n",
       "63075                6.665967     6.53  0.135967\n",
       "63076                6.535796     6.57 -0.034204\n",
       "63077                6.654311     6.55  0.104311\n",
       "\n",
       "[63078 rows x 3 columns]"
      ]
     },
     "execution_count": 20,
     "metadata": {},
     "output_type": "execute_result"
    }
   ],
   "source": [
    "valid_predictions = simple_model.predict(X_valid).flatten()\n",
    "error = valid_predictions - y_valid\n",
    "valid_results = pd.DataFrame(data={'Validation Predictions':valid_predictions,\n",
    "                                  'Actuals':y_valid,\n",
    "                                'Error': error\n",
    "                                 })\n",
    "valid_results"
   ]
  },
  {
   "cell_type": "code",
   "execution_count": 21,
   "id": "696a9b90",
   "metadata": {},
   "outputs": [
    {
     "name": "stdout",
     "output_type": "stream",
     "text": [
      "RMSE in validation set: 0.25090695869182256\n"
     ]
    }
   ],
   "source": [
    "print('RMSE in validation set:', np.sqrt(mean_squared_error(valid_predictions, y_valid)))"
   ]
  },
  {
   "cell_type": "code",
   "execution_count": 23,
   "id": "8c123690",
   "metadata": {},
   "outputs": [
    {
     "data": {
      "text/plain": [
       "[<matplotlib.lines.Line2D at 0x28334695a30>]"
      ]
     },
     "execution_count": 23,
     "metadata": {},
     "output_type": "execute_result"
    },
    {
     "data": {
      "image/png": "[encoded data removed]",
      "text/plain": [
       "<Figure size 640x480 with 1 Axes>"
      ]
     },
     "metadata": {},
     "output_type": "display_data"
    }
   ],
   "source": [
    "# visualizing result\n",
    "\n",
    "plt.plot(valid_results['Validation Predictions'][1000:1200])\n",
    "plt.plot(valid_results['Actuals'][1000:1200])"
   ]
  },
  {
   "cell_type": "markdown",
   "id": "b2da35ab",
   "metadata": {},
   "source": [
    "### In the test set"
   ]
  },
  {
   "cell_type": "code",
   "execution_count": 24,
   "id": "400a87d1",
   "metadata": {},
   "outputs": [
    {
     "name": "stdout",
     "output_type": "stream",
     "text": [
      "1972/1972 [==============================] - 11s 5ms/step\n"
     ]
    },
    {
     "data": {
      "text/html": [
       "<div>\n",
       "<style scoped>\n",
       "    .dataframe tbody tr th:only-of-type {\n",
       "        vertical-align: middle;\n",
       "    }\n",
       "\n",
       "    .dataframe tbody tr th {\n",
       "        vertical-align: top;\n",
       "    }\n",
       "\n",
       "    .dataframe thead th {\n",
       "        text-align: right;\n",
       "    }\n",
       "</style>\n",
       "<table border=\"1\" class=\"dataframe\">\n",
       "  <thead>\n",
       "    <tr style=\"text-align: right;\">\n",
       "      <th></th>\n",
       "      <th>Test Predictions</th>\n",
       "      <th>Actuals</th>\n",
       "      <th>Error</th>\n",
       "    </tr>\n",
       "  </thead>\n",
       "  <tbody>\n",
       "    <tr>\n",
       "      <th>0</th>\n",
       "      <td>6.573970</td>\n",
       "      <td>6.47</td>\n",
       "      <td>0.103970</td>\n",
       "    </tr>\n",
       "    <tr>\n",
       "      <th>1</th>\n",
       "      <td>6.472968</td>\n",
       "      <td>6.47</td>\n",
       "      <td>0.002968</td>\n",
       "    </tr>\n",
       "    <tr>\n",
       "      <th>2</th>\n",
       "      <td>6.527656</td>\n",
       "      <td>6.52</td>\n",
       "      <td>0.007656</td>\n",
       "    </tr>\n",
       "    <tr>\n",
       "      <th>3</th>\n",
       "      <td>6.589948</td>\n",
       "      <td>6.46</td>\n",
       "      <td>0.129948</td>\n",
       "    </tr>\n",
       "    <tr>\n",
       "      <th>4</th>\n",
       "      <td>6.461261</td>\n",
       "      <td>6.47</td>\n",
       "      <td>-0.008739</td>\n",
       "    </tr>\n",
       "    <tr>\n",
       "      <th>...</th>\n",
       "      <td>...</td>\n",
       "      <td>...</td>\n",
       "      <td>...</td>\n",
       "    </tr>\n",
       "    <tr>\n",
       "      <th>63074</th>\n",
       "      <td>-4.093833</td>\n",
       "      <td>-4.05</td>\n",
       "      <td>-0.043833</td>\n",
       "    </tr>\n",
       "    <tr>\n",
       "      <th>63075</th>\n",
       "      <td>-4.076187</td>\n",
       "      <td>-3.35</td>\n",
       "      <td>-0.726187</td>\n",
       "    </tr>\n",
       "    <tr>\n",
       "      <th>63076</th>\n",
       "      <td>-2.922138</td>\n",
       "      <td>-3.16</td>\n",
       "      <td>0.237862</td>\n",
       "    </tr>\n",
       "    <tr>\n",
       "      <th>63077</th>\n",
       "      <td>-3.165962</td>\n",
       "      <td>-4.23</td>\n",
       "      <td>1.064038</td>\n",
       "    </tr>\n",
       "    <tr>\n",
       "      <th>63078</th>\n",
       "      <td>-4.624620</td>\n",
       "      <td>-4.82</td>\n",
       "      <td>0.195380</td>\n",
       "    </tr>\n",
       "  </tbody>\n",
       "</table>\n",
       "<p>63079 rows × 3 columns</p>\n",
       "</div>"
      ],
      "text/plain": [
       "       Test Predictions  Actuals     Error\n",
       "0              6.573970     6.47  0.103970\n",
       "1              6.472968     6.47  0.002968\n",
       "2              6.527656     6.52  0.007656\n",
       "3              6.589948     6.46  0.129948\n",
       "4              6.461261     6.47 -0.008739\n",
       "...                 ...      ...       ...\n",
       "63074         -4.093833    -4.05 -0.043833\n",
       "63075         -4.076187    -3.35 -0.726187\n",
       "63076         -2.922138    -3.16  0.237862\n",
       "63077         -3.165962    -4.23  1.064038\n",
       "63078         -4.624620    -4.82  0.195380\n",
       "\n",
       "[63079 rows x 3 columns]"
      ]
     },
     "execution_count": 24,
     "metadata": {},
     "output_type": "execute_result"
    }
   ],
   "source": [
    "test_predictions = simple_model.predict(X_test).flatten()\n",
    "error = test_predictions - y_test\n",
    "test_results = pd.DataFrame(data={'Test Predictions':test_predictions,\n",
    "                                  'Actuals':y_test,\n",
    "                                  'Error':error\n",
    "                                 })\n",
    "test_results"
   ]
  },
  {
   "cell_type": "code",
   "execution_count": 25,
   "id": "728795e7",
   "metadata": {},
   "outputs": [
    {
     "name": "stdout",
     "output_type": "stream",
     "text": [
      "RMSE in test set: 0.23278547817268044\n"
     ]
    }
   ],
   "source": [
    "print('RMSE in test set:', np.sqrt(mean_squared_error(test_predictions, y_test)))"
   ]
  },
  {
   "cell_type": "code",
   "execution_count": 26,
   "id": "d03b90b3",
   "metadata": {},
   "outputs": [
    {
     "data": {
      "text/plain": [
       "[<matplotlib.lines.Line2D at 0x283346eed90>]"
      ]
     },
     "execution_count": 26,
     "metadata": {},
     "output_type": "execute_result"
    },
    {
     "data": {
      "image/png": "[encoded data removed]",
      "text/plain": [
       "<Figure size 640x480 with 1 Axes>"
      ]
     },
     "metadata": {},
     "output_type": "display_data"
    }
   ],
   "source": [
    "# visualizing result\n",
    "\n",
    "plt.plot(test_results['Test Predictions'][1000:1200])\n",
    "plt.plot(test_results['Actuals'][1000:1200])"
   ]
  },
  {
   "cell_type": "code",
   "execution_count": null,
   "id": "39c4c3f4",
   "metadata": {},
   "outputs": [],
   "source": []
  }
 ],
 "metadata": {
  "kernelspec": {
   "display_name": "Python 3 (ipykernel)",
   "language": "python",
   "name": "python3"
  },
  "language_info": {
   "codemirror_mode": {
    "name": "ipython",
    "version": 3
   },
   "file_extension": ".py",
   "mimetype": "text/x-python",
   "name": "python",
   "nbconvert_exporter": "python",
   "pygments_lexer": "ipython3",
   "version": "3.8.0"
  }
 },
 "nbformat": 4,
 "nbformat_minor": 5
}
